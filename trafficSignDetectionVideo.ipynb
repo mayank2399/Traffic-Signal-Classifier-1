{
 "cells": [
  {
   "cell_type": "code",
   "execution_count": 1,
   "metadata": {},
   "outputs": [],
   "source": [
    "import cv2\n",
    "import numpy as np"
   ]
  },
  {
   "cell_type": "code",
   "execution_count": 2,
   "metadata": {},
   "outputs": [],
   "source": [
    "cap = cv2.VideoCapture(0)\n",
    "\n",
    "def nothing(x):\n",
    "    pass\n",
    "\n",
    "cv2.namedWindow(\"Adjust\")\n",
    "cv2.createTrackbar(\"L_H\", \"Adjust\", 0, 180, nothing)\n",
    "cv2.createTrackbar(\"L_S\", \"Adjust\", 0, 255, nothing)\n",
    "cv2.createTrackbar(\"L_V\", \"Adjust\", 0, 255, nothing)\n",
    "cv2.createTrackbar(\"U_H\", \"Adjust\", 180, 180, nothing)\n",
    "cv2.createTrackbar(\"U_S\", \"Adjust\", 255, 255, nothing)\n",
    "cv2.createTrackbar(\"U_V\", \"Adjust\", 255, 255, nothing)\n",
    "\n",
    "\n",
    "while True:\n",
    "    \n",
    "    ret, frame = cap.read()\n",
    "    #frame = r'C:\\Users\\Ankur Jain\\Desktop\\signs\\1.jpg'\n",
    "    hsv = cv2.cvtColor(frame, cv2.COLOR_BGR2HSV)\n",
    "    frame = cv2.flip(frame,1)\n",
    "    \n",
    "    l_h = cv2.getTrackbarPos(\"L_H\",\"Adjust\")\n",
    "    l_s = cv2.getTrackbarPos(\"L_S\",\"Adjust\")\n",
    "    l_v = cv2.getTrackbarPos(\"L_V\",\"Adjust\")\n",
    "    u_h = cv2.getTrackbarPos(\"U_H\",\"Adjust\")\n",
    "    u_s = cv2.getTrackbarPos(\"U_S\",\"Adjust\")\n",
    "    u_v = cv2.getTrackbarPos(\"U_V\",\"Adjust\")\n",
    "    \n",
    "    lower_color = np.array([l_h, l_s, l_v])\n",
    "    upper_color = np.array([u_h, u_s, u_v])\n",
    "    \n",
    "    mask = cv2.inRange(hsv, lower_color, upper_color)\n",
    "    \n",
    "    cv2.imshow(\"frame\", frame)\n",
    "    cv2.imshow(\"mask\", mask)\n",
    "    \n",
    "    q = cv2.waitKey(1)\n",
    "    \n",
    "    if q==27:\n",
    "        break\n",
    "        \n",
    "cap.release();\n",
    "cv2.destroyAllWindows()"
   ]
  },
  {
   "cell_type": "code",
   "execution_count": 6,
   "metadata": {},
   "outputs": [],
   "source": [
    "import cv2\n",
    "import numpy as np\n",
    "\n",
    "frameHeight = 640\n",
    "frameWidth = 480\n",
    "cap = cv2.VideoCapture(0)\n",
    "cap.set(3,frameWidth)\n",
    "cap.set(4, frameHeight)\n",
    "\n",
    "while True:\n",
    "    \n",
    "    success, img = cap.read()\n",
    "    \n",
    "    cv2.imshow(\"Frame\",img)\n",
    "    \n",
    "    if (cv2.waitKey(0)):\n",
    "        break\n",
    "\n",
    "cap.release()\n",
    "cv2.destroyAllWindows()"
   ]
  },
  {
   "cell_type": "code",
   "execution_count": null,
   "metadata": {},
   "outputs": [],
   "source": []
  }
 ],
 "metadata": {
  "kernelspec": {
   "display_name": "Python 3",
   "language": "python",
   "name": "python3"
  },
  "language_info": {
   "codemirror_mode": {
    "name": "ipython",
    "version": 3
   },
   "file_extension": ".py",
   "mimetype": "text/x-python",
   "name": "python",
   "nbconvert_exporter": "python",
   "pygments_lexer": "ipython3",
   "version": "3.7.3"
  }
 },
 "nbformat": 4,
 "nbformat_minor": 2
}

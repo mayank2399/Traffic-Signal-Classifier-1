{
 "cells": [
  {
   "cell_type": "code",
   "execution_count": 1,
   "metadata": {},
   "outputs": [],
   "source": [
    "from PIL import Image \n",
    "from keras.preprocessing import image\n",
    "from keras.models import load_model\n",
    "import matplotlib.pyplot as plt\n",
    "import random\n",
    "import numpy as np\n",
    "import os"
   ]
  },
  {
   "cell_type": "code",
   "execution_count": 2,
   "metadata": {},
   "outputs": [],
   "source": [
    "classes = { 1:'Speed limit (20km/h)',\n",
    "            2:'Speed limit (30km/h)',      \n",
    "            3:'Speed limit (50km/h)',       \n",
    "            4:'Speed limit (60km/h)',      \n",
    "            5:'Speed limit (70km/h)',    \n",
    "            6:'Speed limit (80km/h)',      \n",
    "            7:'End of speed limit (80km/h)',     \n",
    "            8:'Speed limit (100km/h)',    \n",
    "            9:'Speed limit (120km/h)',     \n",
    "           10:'No passing',   \n",
    "           11:'No passing veh over 3.5 tons',     \n",
    "           12:'Right-of-way at intersection',     \n",
    "           13:'Priority road',    \n",
    "           14:'Yield',     \n",
    "           15:'Stop',       \n",
    "           16:'No vehicles',       \n",
    "           17:'Veh > 3.5 tons prohibited',       \n",
    "           18:'No entry',       \n",
    "           19:'General caution',     \n",
    "           20:'Dangerous curve left',      \n",
    "           21:'Dangerous curve right',   \n",
    "           22:'Double curve',      \n",
    "           23:'Bumpy road',     \n",
    "           24:'Slippery road',       \n",
    "           25:'Road narrows on the right',  \n",
    "           26:'Road work',    \n",
    "           27:'Traffic signals',      \n",
    "           28:'Pedestrians',     \n",
    "           29:'Children crossing',     \n",
    "           30:'Bicycles crossing',       \n",
    "           31:'Beware of ice/snow',\n",
    "           32:'Wild animals crossing',      \n",
    "           33:'End speed + passing limits',      \n",
    "           34:'Turn right ahead',     \n",
    "           35:'Turn left ahead',       \n",
    "           36:'Ahead only',      \n",
    "           37:'Go straight or right',      \n",
    "           38:'Go straight or left',      \n",
    "           39:'Keep right',     \n",
    "           40:'Keep left',      \n",
    "           41:'Roundabout mandatory',     \n",
    "           42:'End of no passing',      \n",
    "           43:'End no passing veh > 3.5 tons' }"
   ]
  },
  {
   "cell_type": "code",
   "execution_count": 56,
   "metadata": {},
   "outputs": [],
   "source": [
    "__dirname = os.path.join(os.getcwd(),\"images/test\")\n",
    "# print(__dirname)\n",
    "iModel = load_model('my_model.h5')"
   ]
  },
  {
   "cell_type": "code",
   "execution_count": 57,
   "metadata": {},
   "outputs": [],
   "source": [
    "def predict(filename):\n",
    "    test_image = image.load_img(filename, target_size = (30,30))\n",
    "    test_image = image.img_to_array(test_image)\n",
    "    test_image = np.expand_dims(test_image, axis=0)\n",
    "    result = iModel.predict(test_image)\n",
    "    test_image = np.squeeze(test_image)\n",
    "    plt.imshow(test_image/255.)\n",
    "    print(classes[result.argmax()+1])\n",
    "#     print(result)\n",
    "#     print(result.argmax())\n",
    "#     print(np.nanmax(result))\n",
    "#     print(np.where(result == np.nanmax(result, axis = 1)))\n",
    "#     print(result.loc[result[0].argmax(), \"SignName\"])"
   ]
  },
  {
   "cell_type": "code",
   "execution_count": 61,
   "metadata": {},
   "outputs": [
    {
     "name": "stdout",
     "output_type": "stream",
     "text": [
      "Wild animals crossing\n"
     ]
    },
    {
     "data": {
      "image/png": "[encoded data removed]",
      "text/plain": [
       "<Figure size 432x288 with 1 Axes>"
      ]
     },
     "metadata": {
      "needs_background": "light"
     },
     "output_type": "display_data"
    }
   ],
   "source": [
    "filename = random.choice(os.listdir(__dirname))\n",
    "# print(os.path.join(__dirname,filename))\n",
    "predict(os.path.join(__dirname,filename))"
   ]
  },
  {
   "cell_type": "code",
   "execution_count": null,
   "metadata": {},
   "outputs": [],
   "source": []
  }
 ],
 "metadata": {
  "kernelspec": {
   "display_name": "Python 3",
   "language": "python",
   "name": "python3"
  },
  "language_info": {
   "codemirror_mode": {
    "name": "ipython",
    "version": 3
   },
   "file_extension": ".py",
   "mimetype": "text/x-python",
   "name": "python",
   "nbconvert_exporter": "python",
   "pygments_lexer": "ipython3",
   "version": "3.7.3"
  }
 },
 "nbformat": 4,
 "nbformat_minor": 2
}
